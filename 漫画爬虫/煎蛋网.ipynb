{
 "cells": [
  {
   "cell_type": "code",
   "execution_count": null,
   "metadata": {
    "collapsed": true
   },
   "outputs": [],
   "source": [
    "from selenium import webdriver\n",
    "from selenium.webdriver.common.keys import Keys\n",
    "import requests\n",
    "import re\n",
    "from bs4 import BeautifulSoup\n",
    "import time"
   ]
  },
  {
   "cell_type": "code",
   "execution_count": 82,
   "metadata": {
    "collapsed": true
   },
   "outputs": [],
   "source": [
    "Path = './煎蛋/'\n",
    "urls = [\"http://jandan.net/ooxx/page-{}#comments\".format(str(i)) for i in range(1, 48)]\n",
    "img_url=[]\n",
    "# 定位Phantom.js 的参数设置\n",
    "service_args=[]\n",
    "#service_args.append('--load-images=no')  ##关闭图片加载\n",
    "service_args.append('--disk-cache=yes')  ##开启缓存\n",
    "service_args.append('--ignore-ssl-errors=true') ##忽略https错误\n",
    "service_args.append('--ssl-protocol=any')##防止网站无法解析\n",
    "d = webdriver.PhantomJS(service_args=service_args)"
   ]
  },
  {
   "cell_type": "code",
   "execution_count": null,
   "metadata": {
    "collapsed": true
   },
   "outputs": [],
   "source": [
    "for url in urls:\n",
    "    d.get(url)\n",
    "    time.sleep(2)\n",
    "    print(d.current_url)                # 防止链接污染\n",
    "    data = d.page_source\n",
    "    soup = BeautifulSoup(data, \"lxml\")  #解析网页\n",
    "    img1 = soup.find_all(\"div\",{\"class\":\"text\"})\n",
    "    for img in img1:\n",
    "        if str('gif') in str(img):\n",
    "            pass\n",
    "        else:\n",
    "            img_url = img.find(\"img\",{\"src\": re.compile('.*?\\.jpg')})['src']\n",
    "            r = requests.get(img_url, stream=True)\n",
    "            image_name = img_url.split('/')[-1]\n",
    "            with open('./煎蛋/%s' % image_name, 'wb') as f:\n",
    "                for chunk in r.iter_content(chunk_size=32):\n",
    "                    f.write(chunk)\n",
    "                print('Saved %s' % image_name)"
   ]
  },
  {
   "cell_type": "code",
   "execution_count": 44,
   "metadata": {},
   "outputs": [
    {
     "data": {
      "text/plain": [
       "'http://ww3.sinaimg.cn/mw600/0073ob6Pgy1ftt09z6ppwj30ku1124qr.jpg'"
      ]
     },
     "execution_count": 44,
     "metadata": {},
     "output_type": "execute_result"
    }
   ],
   "source": [
    "soup.find(\"div\",{\"class\":\"text\"}).find(\"img\",{\"src\": re.compile('.*?\\.jpg')})['src']"
   ]
  },
  {
   "cell_type": "code",
   "execution_count": null,
   "metadata": {
    "collapsed": true
   },
   "outputs": [],
   "source": [
    "img1 = soup.find_all(\"div\",{\"class\":\"text\"})\n",
    "\n",
    "for img in img1:\n",
    "    if str('gif') in str(img):\n",
    "        pass\n",
    "    else:\n",
    "        img_url = img.find(\"img\",{\"src\": re.compile('.*?\\.jpg')})['src']\n",
    "        r = requests.get(img_url, stream=True)\n",
    "        image_name = img_url.split('/')[-1]\n",
    "        with open('./煎蛋/%s' % image_name, 'wb') as f:\n",
    "            for chunk in r.iter_content(chunk_size=32):\n",
    "                f.write(chunk)\n",
    "            print('Saved %s' % image_name)"
   ]
  }
 ],
 "metadata": {
  "kernelspec": {
   "display_name": "Python 3",
   "language": "python",
   "name": "python3"
  },
  "language_info": {
   "codemirror_mode": {
    "name": "ipython",
    "version": 3
   },
   "file_extension": ".py",
   "mimetype": "text/x-python",
   "name": "python",
   "nbconvert_exporter": "python",
   "pygments_lexer": "ipython3",
   "version": "3.6.5"
  }
 },
 "nbformat": 4,
 "nbformat_minor": 2
}
