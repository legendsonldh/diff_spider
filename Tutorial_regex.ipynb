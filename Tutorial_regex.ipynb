{
  "nbformat": 4,
  "nbformat_minor": 0,
  "metadata": {
    "colab": {
      "name": "Tutorial_regex.ipynb",
      "provenance": [],
      "collapsed_sections": [],
      "authorship_tag": "ABX9TyO97dMH3iRpm9BpHX6YrnRy",
      "include_colab_link": true
    },
    "kernelspec": {
      "name": "python3",
      "display_name": "Python 3"
    },
    "language_info": {
      "name": "python"
    }
  },
  "cells": [
    {
      "cell_type": "markdown",
      "metadata": {
        "id": "view-in-github",
        "colab_type": "text"
      },
      "source": [
        "<a href=\"https://colab.research.google.com/github/legendsonldh/diff_spider/blob/main/Tutorial_regex.ipynb\" target=\"_parent\"><img src=\"https://colab.research.google.com/assets/colab-badge.svg\" alt=\"Open In Colab\"/></a>"
      ]
    },
    {
      "cell_type": "markdown",
      "metadata": {
        "id": "AuLi6TzonDTM"
      },
      "source": [
        "### 导入 \n",
        "\\\\\n",
        "本次实验的参考链接如下：\n",
        "[正则表达式1](https://www.cnblogs.com/zhaof/p/6925674.html)\n",
        "[正则表达式2](https://mofanpy.com/tutorials/python-basic/basic/regular-expression/)"
      ]
    },
    {
      "cell_type": "code",
      "metadata": {
        "id": "d_F09b1tm5bB"
      },
      "source": [
        "import re\n",
        "import time\n",
        "import os"
      ],
      "execution_count": null,
      "outputs": []
    },
    {
      "cell_type": "markdown",
      "metadata": {
        "id": "SDPs0weXn0yd"
      },
      "source": [
        "我们解析一个简单点的网页\n",
        "\"https://morvanzhou.github.io/static/scraping/basic-structure.html\""
      ]
    },
    {
      "cell_type": "code",
      "metadata": {
        "id": "ASRNN35wno4l"
      },
      "source": [
        "import requests\n",
        "url = \"https://morvanzhou.github.io/static/scraping/basic-structure.html\""
      ],
      "execution_count": null,
      "outputs": []
    },
    {
      "cell_type": "markdown",
      "metadata": {
        "id": "I17T3_3ErJ0q"
      },
      "source": [
        "#### try和except的请求函数"
      ]
    },
    {
      "cell_type": "code",
      "metadata": {
        "id": "KangcgVQqDrZ"
      },
      "source": [
        "def get(url):\n",
        "  try:\n",
        "    r = requests.get(url)\n",
        "    r.encoding = \"utf-8\"\n",
        "  except requests.exceptions.ConnectionError:\n",
        "    print('ConnectionError -- please wait 120 seconds')\n",
        "    time.sleep(120)\n",
        "    r = requests.get(url)\n",
        "    r.encoding = \"utf-8\"\n",
        "    print('Connection Rest')\n",
        "  return r"
      ],
      "execution_count": null,
      "outputs": []
    },
    {
      "cell_type": "markdown",
      "metadata": {
        "id": "Xs0V1kp6ri3w"
      },
      "source": [
        "输出打印页面"
      ]
    },
    {
      "cell_type": "code",
      "metadata": {
        "colab": {
          "base_uri": "https://localhost:8080/"
        },
        "id": "MPvHRZmGrJP2",
        "outputId": "753e7f58-1c70-4bd3-c06c-97e27b4b25ee"
      },
      "source": [
        "html = get(url).text\n",
        "print(html)"
      ],
      "execution_count": null,
      "outputs": [
        {
          "output_type": "stream",
          "text": [
            "<!DOCTYPE html>\n",
            "<html lang=\"cn\">\n",
            "<head>\n",
            "\t<meta charset=\"UTF-8\">\n",
            "\t<title>Scraping tutorial 1 | 莫烦Python</title>\n",
            "\t<link rel=\"icon\" href=\"https://morvanzhou.github.io/static/img/description/tab_icon.png\">\n",
            "</head>\n",
            "<body>\n",
            "\t<h1>爬虫测试1</h1>\n",
            "\t<p>\n",
            "\t\t这是一个在 <a href=\"https://morvanzhou.github.io/\">莫烦Python</a>\n",
            "\t\t<a href=\"https://morvanzhou.github.io/tutorials/data-manipulation/scraping/\">爬虫教程</a> 中的简单测试.\n",
            "\t</p>\n",
            "\n",
            "</body>\n",
            "</html>\n"
          ],
          "name": "stdout"
        }
      ]
    },
    {
      "cell_type": "markdown",
      "metadata": {
        "id": "hu6d1mJ6tqbr"
      },
      "source": [
        "虽然有个对应的目标，但是我们还是从简单处入手，了解正则表达式 \\\\\n",
        "###re.match(pattern,string,flag)\n",
        "1. 返回两个匹配值，其中span代表位置下标，group代表匹配内容。\n",
        "2. match只能从开头进行匹配，否则会报错 \n",
        "\n",
        "### re.search(pattern,string,flag)\n",
        "1. 返回两个匹配值，其中span代表位置下标，group代表匹配内容。\n",
        "2. search返回第一个匹配的结果\n"
      ]
    },
    {
      "cell_type": "code",
      "metadata": {
        "colab": {
          "base_uri": "https://localhost:8080/"
        },
        "id": "_UEc0Ndrrg8_",
        "outputId": "1125b99c-4c15-4694-ce10-e4d204e9153a"
      },
      "source": [
        "string = \"abc,jkl\"\n",
        "res = re.match(\"jkl\",string)\n",
        "print(res)\n",
        "res = re.search(\"jkl\",string)\n",
        "print(res)"
      ],
      "execution_count": null,
      "outputs": [
        {
          "output_type": "stream",
          "text": [
            "None\n",
            "<re.Match object; span=(4, 7), match='jkl'>\n"
          ],
          "name": "stdout"
        }
      ]
    },
    {
      "cell_type": "markdown",
      "metadata": {
        "id": "PNk2dwoAzHWL"
      },
      "source": [
        "### re.search 与 re.findall区别\n",
        "1. search匹配第一个式子，不能完全匹配括号内的内容。\n",
        "2. findall可以匹配括号内内容，并且只匹配括号内的内容\n",
        "\n",
        "### Tips\n",
        "1. r'...'可以解决转义字符混淆问题\n",
        "2. 推荐使用re.complie(r'..')的方式构造正则表达式，优点是易读、效率高。[一些讨论](https://stackoverflow.com/questions/452104/is-it-worth-using-pythons-re-compile)\n"
      ]
    },
    {
      "cell_type": "code",
      "metadata": {
        "colab": {
          "base_uri": "https://localhost:8080/"
        },
        "id": "Q8cz-GTnugQy",
        "outputId": "18bc8e33-d817-4c77-ce00-b82cef81196d"
      },
      "source": [
        "res = re.search(r'href=\"(.*?)\">(.*?)</a>',html)\n",
        "print(res)\n",
        "res = re.findall(r'href=\"(.*?)\">(.*?)</a>',html)\n",
        "print(res)"
      ],
      "execution_count": null,
      "outputs": [
        {
          "output_type": "stream",
          "text": [
            "<re.Match object; span=(249, 298), match='href=\"https://morvanzhou.github.io/\">莫烦Python</a>>\n",
            "[('https://morvanzhou.github.io/', '莫烦Python'), ('https://morvanzhou.github.io/tutorials/data-manipulation/scraping/', '爬虫教程')]\n"
          ],
          "name": "stdout"
        }
      ]
    },
    {
      "cell_type": "markdown",
      "metadata": {
        "id": "m1OTRejI2u5z"
      },
      "source": [
        "### re.split and re.sub\n",
        "1. re.split(pattern,string)  -> list \n",
        "2. re.sub(pattern,string)"
      ]
    },
    {
      "cell_type": "code",
      "metadata": {
        "colab": {
          "base_uri": "https://localhost:8080/"
        },
        "id": "EB8zFT-n2ndb",
        "outputId": "b73f781a-6bec-43ba-991c-e1281d9ff66b"
      },
      "source": [
        "print(re.split(r'[,;\\.]', \"a;b,c.d;e\"))\n",
        "print(re.sub(r'r[au]ns', \"catches\", \"dog runs to cat\"))  "
      ],
      "execution_count": null,
      "outputs": [
        {
          "output_type": "stream",
          "text": [
            "['a', 'b', 'c', 'd', 'e']\n",
            "dog catches to cat\n"
          ],
          "name": "stdout"
        }
      ]
    },
    {
      "cell_type": "markdown",
      "metadata": {
        "id": "YlPYiweWr26T"
      },
      "source": [
        "### 正则表达式参考对应表 \n"
      ]
    },
    {
      "cell_type": "markdown",
      "metadata": {
        "id": "Z-juoR-O3TVs"
      },
      "source": [
        "\n",
        "```\n",
        "\\w      匹配字母数字及下划线\n",
        "\\W      匹配f非字母数字下划线\n",
        "\\s      匹配任意空白字符，等价于[\\t\\n\\r\\f]\n",
        "\\S      匹配任意非空字符\n",
        "\\d      匹配任意数字\n",
        "\\D      匹配任意非数字\n",
        "\\A      匹配字符串开始\n",
        "\\Z      匹配字符串结束，如果存在换行，只匹配换行前的结束字符串\n",
        "\\z      匹配字符串结束\n",
        "\\G      匹配最后匹配完成的位置\n",
        "\\n      匹配一个换行符\n",
        "\\t      匹配一个制表符\n",
        "^       匹配字符串的开头\n",
        "$       匹配字符串的末尾\n",
        ".       匹配任意字符，除了换行符，re.DOTALL标记被指定时，则可以匹配包括换行符的任意字符\n",
        "[....]  用来表示一组字符，单独列出：[amk]匹配a,m或k\n",
        "[^...]  不在[]中的字符：[^abc]匹配除了a,b,c之外的字符\n",
        "*       匹配0个或多个的表达式\n",
        "+       匹配1个或者多个的表达式\n",
        "?       匹配0个或1个由前面的正则表达式定义的片段，非贪婪方式\n",
        "{n}     精确匹配n前面的表示\n",
        "{m,m}   匹配n到m次由前面的正则表达式定义片段，贪婪模式\n",
        "a|b     匹配a或者b\n",
        "()      匹配括号内的表达式，也表示一个组\n",
        "```\n",
        "\\\\\n",
        "![图片.png](https://static.mofanpy.com/results/basic/13-10-01.png)"
      ]
    },
    {
      "cell_type": "markdown",
      "metadata": {
        "id": "V06oECNzIQ-g"
      },
      "source": [
        "## Example in python\n",
        "1. 使用[]匹配()内外字符"
      ]
    },
    {
      "cell_type": "code",
      "metadata": {
        "colab": {
          "base_uri": "https://localhost:8080/"
        },
        "id": "e9dM9gVqIXTf",
        "outputId": "b33f12d2-ba18-48c9-b8be-87fb94a270e7"
      },
      "source": [
        "import re\n",
        "string = \"华夏沪深300ETF联接A(000051) 查看相关ETF>\"\n",
        "s = re.compile('(.*?)[()]')\n",
        "print(re.findall(s,str))"
      ],
      "execution_count": null,
      "outputs": [
        {
          "output_type": "stream",
          "text": [
            "['华夏沪深300ETF联接A', '000051']\n"
          ],
          "name": "stdout"
        }
      ]
    }
  ]
}